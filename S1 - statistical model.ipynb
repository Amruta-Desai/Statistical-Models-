{
 "cells": [
  {
   "cell_type": "code",
   "execution_count": 2,
   "metadata": {},
   "outputs": [],
   "source": [
    "import numpy as np\n",
    "from numpy.random import randn\n",
    "import pandas as pd\n",
    "from scipy import stats\n",
    "import matplotlib as mpl\n",
    "import matplotlib.pyplot as plt\n",
    "import seaborn as sns\n",
    "from __future__ import division\n",
    "%matplotlib inline"
   ]
  },
  {
   "cell_type": "markdown",
   "metadata": {},
   "source": [
    "1.THIS IS DISCRETE UNIFORM DISTRIBUTION: We are taking a eg of a dice where prob of all no is equally likely.\n",
    "\n",
    "Lets check out the probability mass function"
   ]
  },
  {
   "cell_type": "code",
   "execution_count": 9,
   "metadata": {},
   "outputs": [
    {
     "data": {
      "image/png": "[encoded data removed]",
      "text/plain": [
       "<Figure size 432x288 with 1 Axes>"
      ]
     },
     "metadata": {
      "needs_background": "light"
     },
     "output_type": "display_data"
    }
   ],
   "source": [
    "roll_op = [1,2,3,4,5,6]\n",
    "\n",
    "# total prob of space \n",
    "tprob = 1\n",
    "\n",
    "prob_roll = tprob / len(roll_op)\n",
    "\n",
    "uni_plot= sns.rugplot(roll_op,height= prob_roll,c='indianred')\n",
    "\n",
    "uni_plot.set_title('Probability Mass Function for Dice Roll')\n",
    "plt.ylim(0,0.10)\n",
    "plt.show()"
   ]
  },
  {
   "cell_type": "code",
   "execution_count": 15,
   "metadata": {},
   "outputs": [
    {
     "data": {
      "text/plain": [
       "Text(0.5,1,'Probability Mass Function for Dice Roll')"
      ]
     },
     "execution_count": 15,
     "metadata": {},
     "output_type": "execute_result"
    },
    {
     "data": {
      "image/png": "[encoded data removed]",
      "text/plain": [
       "<Figure size 432x288 with 1 Axes>"
      ]
     },
     "metadata": {
      "needs_background": "light"
     },
     "output_type": "display_data"
    }
   ],
   "source": [
    "roll_options = [1,2,3,4,5,6]\n",
    "\n",
    "# Total probability space\n",
    "tprob = 1\n",
    "\n",
    "# Each roll has same odds of appearing (on a fair die at least)\n",
    "prob_roll = tprob / len(roll_options)\n",
    "\n",
    "# Plot using seaborn rugplot (note this is not really a rugplot), setting height equal to probability of roll\n",
    "uni_plot = sns.rugplot(roll_options,height=prob_roll,c='indianred')\n",
    "\n",
    "# Set Title\n",
    "uni_plot.set_title('Probability Mass Function for Dice Roll')\n"
   ]
  },
  {
   "cell_type": "markdown",
   "metadata": {},
   "source": [
    "USING SCIPY TO CREATE SAME MODEL "
   ]
  },
  {
   "cell_type": "code",
   "execution_count": 16,
   "metadata": {},
   "outputs": [],
   "source": [
    "from scipy.stats import randint"
   ]
  },
  {
   "cell_type": "code",
   "execution_count": 20,
   "metadata": {},
   "outputs": [
    {
     "name": "stdout",
     "output_type": "stream",
     "text": [
      "the mean is 3.5\n",
      "the variance is 2.92\n"
     ]
    }
   ],
   "source": [
    "low,high = 1,7\n",
    "mean,var = randint.stats(low,high)\n",
    "print 'the mean is %2.1f' %mean\n",
    "print 'the variance is %.2f' %var"
   ]
  },
  {
   "cell_type": "code",
   "execution_count": 19,
   "metadata": {},
   "outputs": [
    {
     "data": {
      "text/plain": [
       "<BarContainer object of 6 artists>"
      ]
     },
     "execution_count": 19,
     "metadata": {},
     "output_type": "execute_result"
    },
    {
     "data": {
      "image/png": "[encoded data removed]",
      "text/plain": [
       "<Figure size 432x288 with 1 Axes>"
      ]
     },
     "metadata": {
      "needs_background": "light"
     },
     "output_type": "display_data"
    }
   ],
   "source": [
    "plt.bar(roll_options,randint.pmf(roll_options,low,high))"
   ]
  },
  {
   "cell_type": "markdown",
   "metadata": {},
   "source": [
    "2.CONTINUOUS UNIFORM DISTRIBUTION:\n",
    "\n",
    "Let's say on average, a taxi ride in NYC takes 22 minutes. After taking some time measurements from experiments we gather that all the taxi rides are uniformly distributed between 19 and 27 minutes. What is the probability?"
   ]
  },
  {
   "cell_type": "code",
   "execution_count": 21,
   "metadata": {},
   "outputs": [
    {
     "name": "stdout",
     "output_type": "stream",
     "text": [
      "The probability func is 0.125\n"
     ]
    }
   ],
   "source": [
    "a=19\n",
    "b=27\n",
    "fx= 1.0/ (b-a)\n",
    "\n",
    "print 'The probability density func is %.3f' %fx"
   ]
  },
  {
   "cell_type": "code",
   "execution_count": 23,
   "metadata": {},
   "outputs": [
    {
     "name": "stdout",
     "output_type": "stream",
     "text": [
      "the variance of this is 5.333\n"
     ]
    }
   ],
   "source": [
    "var = ((b-a)**2)/12\n",
    "print 'the variance of this is %.3f' %var"
   ]
  },
  {
   "cell_type": "code",
   "execution_count": 28,
   "metadata": {},
   "outputs": [
    {
     "name": "stdout",
     "output_type": "stream",
     "text": [
      " The probability that the taxi ride will last at least 25 minutes is 25.0%\n"
     ]
    }
   ],
   "source": [
    "fx_1 = 27.0/(b-a)\n",
    "fx_2 = 25.0/(b-a)\n",
    "ans = fx_1-fx_2\n",
    "\n",
    "print ' The probability that the taxi ride will last at least 25 minutes is %2.1f%%' %(100*ans)"
   ]
  },
  {
   "cell_type": "code",
   "execution_count": 29,
   "metadata": {},
   "outputs": [
    {
     "data": {
      "text/plain": [
       "[<matplotlib.lines.Line2D at 0xd4c44e0>]"
      ]
     },
     "execution_count": 29,
     "metadata": {},
     "output_type": "execute_result"
    },
    {
     "data": {
      "image/png": "[encoded data removed]",
      "text/plain": [
       "<Figure size 432x288 with 1 Axes>"
      ]
     },
     "metadata": {
      "needs_background": "light"
     },
     "output_type": "display_data"
    }
   ],
   "source": [
    "# Import the following\n",
    "from scipy.stats import uniform\n",
    "import numpy as np\n",
    "\n",
    "#Let's set an A and B\n",
    "A=19\n",
    "B=27\n",
    "\n",
    "# Set x as 100 linearly spaced points between A and B\n",
    "x = np.linspace(A,B,100)\n",
    "\n",
    "# Use uniform(loc=start point,scale=endpoint)\n",
    "rv = uniform(loc=A,scale=B)\n",
    "\n",
    "#Plot the PDF of that uniform distirbution\n",
    "plt.plot(x,rv.pdf(x))\n",
    "\n",
    "#the line is at 0.037 as 1/(27-19)"
   ]
  },
  {
   "cell_type": "markdown",
   "metadata": {},
   "source": [
    "3.BINOMIAL DISTRIBUTION :\n",
    "\n",
    "Binomial is a specific type of a discrete probability distribution.\n",
    "\n",
    "Example 1: Two players are playing basketball, player A and player B. Player A takes an average of 11 shots per game, and has an average success rate of 72%. Player B takes an average of 15 shots per game, but has an average success rate of 48%.\n",
    "\n",
    "Question 1: What's the probability that Player A makes 6 shots in an average game?\n",
    "\n",
    "Question 2: What's the probability that Player B makes 6 shots in an average game?\n",
    "\n",
    "The formula for a Binomial Distribution Probability Mass Function turns out to be:\n",
    "\n",
    "Pr(X=k)=C(n,k)pk(1−p)n−k\n"
   ]
  },
  {
   "cell_type": "code",
   "execution_count": 30,
   "metadata": {},
   "outputs": [
    {
     "name": "stdout",
     "output_type": "stream",
     "text": [
      " The probability of player A making 6 shots in an average game is 11.1% \n",
      "\n",
      "\n",
      " The probability of player B making 6 shots in an average game is 17.0% \n"
     ]
    },
    {
     "name": "stderr",
     "output_type": "stream",
     "text": [
      "C:\\Users\\AMRUTA DESAI\\Anaconda2\\lib\\site-packages\\ipykernel_launcher.py:15: DeprecationWarning: `comb` is deprecated!\n",
      "Importing `comb` from scipy.misc is deprecated in scipy 1.0.0. Use `scipy.special.comb` instead.\n",
      "  from ipykernel import kernelapp as app\n",
      "C:\\Users\\AMRUTA DESAI\\Anaconda2\\lib\\site-packages\\ipykernel_launcher.py:27: DeprecationWarning: `comb` is deprecated!\n",
      "Importing `comb` from scipy.misc is deprecated in scipy 1.0.0. Use `scipy.special.comb` instead.\n"
     ]
    }
   ],
   "source": [
    "# Set up player A\n",
    "\n",
    "# Probability of success for A\n",
    "p_A = .72\n",
    "# Number of shots for A\n",
    "n_A = 11\n",
    "\n",
    "# Make 6 shots,success rate\n",
    "k = 6\n",
    "\n",
    "# Now import scipy for combination\n",
    "import scipy.misc as sc\n",
    "\n",
    "# Set up C(n,k)\n",
    "comb_A = sc.comb(n_A,k)\n",
    "\n",
    "# Now put it together to get the probability!\n",
    "answer_A = comb_A * (p_A**k) * ((1-p_A)**(n_A-k))\n",
    "\n",
    "# Put the answer in percentage form!\n",
    "answer_A = 100*answer_A\n",
    "\n",
    "\n",
    "# Quickly repeat all steps for Player B\n",
    "p_B = .48\n",
    "n_B = 15\n",
    "comb_B = sc.comb(n_B,k)\n",
    "answer_B = 100 * comb_B * (p_B**k) * ((1-p_B)**(n_B-k))\n",
    "\n",
    "\n",
    "#Print Answers\n",
    "print ' The probability of player A making 6 shots in an average game is %1.1f%% ' %answer_A\n",
    "print '\\n'\n",
    "print ' The probability of player B making 6 shots in an average game is %1.1f%% ' %answer_B\n"
   ]
  },
  {
   "cell_type": "markdown",
   "metadata": {},
   "source": [
    "So now we know that even though player B is technically a worse shooter, because she takes more shots she will have a higher chance of making 6 shots in an average game!\n",
    "\n",
    "But wait a minute... what about a higher amount of shots, will player's A higher probability take a stronger effect then? What's the probability of making 9 shots a game for either player?\n",
    "\n"
   ]
  },
  {
   "cell_type": "code",
   "execution_count": 31,
   "metadata": {},
   "outputs": [
    {
     "name": "stdout",
     "output_type": "stream",
     "text": [
      " The probability of player A making 9 shots in an average game is 22.4% \n",
      "\n",
      "\n",
      " The probability of player B making 9 shots in an average game is 13.4% \n"
     ]
    },
    {
     "name": "stderr",
     "output_type": "stream",
     "text": [
      "C:\\Users\\AMRUTA DESAI\\Anaconda2\\lib\\site-packages\\ipykernel_launcher.py:15: DeprecationWarning: `comb` is deprecated!\n",
      "Importing `comb` from scipy.misc is deprecated in scipy 1.0.0. Use `scipy.special.comb` instead.\n",
      "  from ipykernel import kernelapp as app\n",
      "C:\\Users\\AMRUTA DESAI\\Anaconda2\\lib\\site-packages\\ipykernel_launcher.py:27: DeprecationWarning: `comb` is deprecated!\n",
      "Importing `comb` from scipy.misc is deprecated in scipy 1.0.0. Use `scipy.special.comb` instead.\n"
     ]
    }
   ],
   "source": [
    "# Set up player A\n",
    "\n",
    "# Probability of success for A\n",
    "p_A = .72\n",
    "# Number of shots for A\n",
    "n_A = 11\n",
    "\n",
    "# Make 6 shots,success rate\n",
    "k = 9\n",
    "\n",
    "# Now import scipy for combination\n",
    "import scipy.misc as sc\n",
    "\n",
    "# Set up C(n,k)\n",
    "comb_A = sc.comb(n_A,k)\n",
    "\n",
    "# Now put it together to get the probability!\n",
    "answer_A = comb_A * (p_A**k) * ((1-p_A)**(n_A-k))\n",
    "\n",
    "# Put the answer in percentage form!\n",
    "answer_A = 100*answer_A\n",
    "\n",
    "\n",
    "# Quickly repeat all steps for Player B\n",
    "p_B = .48\n",
    "n_B = 15\n",
    "comb_B = sc.comb(n_B,k)\n",
    "answer_B = 100 * comb_B * (p_B**k) * ((1-p_B)**(n_B-k))\n",
    "\n",
    "\n",
    "#Print Answers\n",
    "print ' The probability of player A making 9 shots in an average game is %1.1f%% ' %answer_A\n",
    "print '\\n'\n",
    "print ' The probability of player B making 9 shots in an average game is %1.1f%% ' %answer_B\n"
   ]
  },
  {
   "cell_type": "code",
   "execution_count": 32,
   "metadata": {},
   "outputs": [
    {
     "name": "stdout",
     "output_type": "stream",
     "text": [
      "\n",
      "\n",
      "Player A will make an average of 8 +/- 1 shots per game\n",
      "\n",
      "\n",
      "Player B will make an average of 7 +/- 2 shots per game\n",
      "\n",
      "\n",
      "NOTE: It's impossible to make a decimal of a shot so '%1.0f' was used to replace the float!\n"
     ]
    }
   ],
   "source": [
    "# Let's go ahead and plug in to the formulas.\n",
    "#calculating average\n",
    "# Get the mean\n",
    "mu_A = n_A *p_A\n",
    "mu_B = n_B *p_B\n",
    "\n",
    "#Get the standard deviation\n",
    "sigma_A = ( n_A *p_A*(1-p_A) )**0.5\n",
    "sigma_B = ( n_B *p_B*(1-p_B) )**0.5\n",
    "\n",
    "# Now print results\n",
    "print '\\n'\n",
    "print 'Player A will make an average of %1.0f +/- %1.0f shots per game' %(mu_A,sigma_A)\n",
    "print '\\n'\n",
    "print 'Player B will make an average of %1.0f +/- %1.0f shots per game' %(mu_B,sigma_B)\n",
    "print '\\n'\n",
    "print \"NOTE: It's impossible to make a decimal of a shot so '%1.0f' was used to replace the float!\"\n"
   ]
  },
  {
   "cell_type": "code",
   "execution_count": 33,
   "metadata": {},
   "outputs": [
    {
     "name": "stdout",
     "output_type": "stream",
     "text": [
      "7.92\n",
      "1.4891608375189027\n"
     ]
    }
   ],
   "source": [
    "from scipy.stats import binom\n",
    "\n",
    "# We can get stats: Mean('m'), variance('v'), skew('s'), and/or kurtosis('k')\n",
    "mean,var= binom.stats(n_A,p_A)\n",
    "\n",
    "print mean\n",
    "print var**0.5\n"
   ]
  },
  {
   "cell_type": "markdown",
   "metadata": {},
   "source": [
    "EXAMPLE 2-- We can also get the probability mass function:\n",
    "Let's try another example to see the full PMF (Probability Mass Function) and plotting it.\n",
    "\n",
    "Imagine you flip a fair coin. Your probability of getting a heads is p=0.5 (success in this example).\n",
    "\n",
    "So what does your probability mass function look like for 10 coin flips?"
   ]
  },
  {
   "cell_type": "code",
   "execution_count": 34,
   "metadata": {},
   "outputs": [
    {
     "data": {
      "text/plain": [
       "array([0.00097656, 0.00976563, 0.04394531, 0.1171875 , 0.20507813,\n",
       "       0.24609375, 0.20507813, 0.1171875 , 0.04394531, 0.00976563,\n",
       "       0.00097656])"
      ]
     },
     "execution_count": 34,
     "metadata": {},
     "output_type": "execute_result"
    }
   ],
   "source": [
    "import numpy as np\n",
    "\n",
    "# Set up a new example, let's say n= 10 coin flips and p=0.5 for a fair coin.\n",
    "n=10\n",
    "p=0.5\n",
    "\n",
    "# Set up n success, remember indexing starts at 0, so use n+1\n",
    "x = range(n+1)\n",
    "\n",
    "# Now create the probability mass function\n",
    "Y = binom.pmf(x,n,p)\n",
    "\n",
    "#Show\n",
    "Y\n",
    "\n",
    "# Next we'll visualize the pmf by plotting it."
   ]
  },
  {
   "cell_type": "code",
   "execution_count": 35,
   "metadata": {},
   "outputs": [
    {
     "data": {
      "text/plain": [
       "Text(0,0.5,'Probability')"
      ]
     },
     "execution_count": 35,
     "metadata": {},
     "output_type": "execute_result"
    },
    {
     "data": {
      "image/png": "[encoded data removed]",
      "text/plain": [
       "<Figure size 432x288 with 1 Axes>"
      ]
     },
     "metadata": {
      "needs_background": "light"
     },
     "output_type": "display_data"
    }
   ],
   "source": [
    "import matplotlib.pyplot as plt\n",
    "\n",
    "# For simple plots, matplotlib is fine, seaborn is unnecessary.\n",
    "\n",
    "# Now simply use plot\n",
    "plt.plot(x,Y,'o')\n",
    "\n",
    "#Title (use y=1.08 to raise the long title a little more above the plot)\n",
    "plt.title('Binomial Distribution PMF: 10 coin Flips, Odds of Success for Heads is p=0.5',y=1.08)\n",
    "\n",
    "#Axis Titles\n",
    "plt.xlabel('Number of Heads')\n",
    "plt.ylabel('Probability')"
   ]
  },
  {
   "cell_type": "markdown",
   "metadata": {},
   "source": [
    "4.POISSON DISTRIBUTION:\n",
    "\n",
    "Formal Definition: A discrete random variable X has a Poisson distribution with parameter λ if for k=0,1,2.., the probability mass function of X is given by:\n",
    "\n",
    "Pr(X=k)=λ**k.e**−λ/k!\n"
   ]
  },
  {
   "cell_type": "markdown",
   "metadata": {},
   "source": [
    "So what would an example question look like?\n",
    "\n",
    "Let's say a McDonald's has a lunch rush from 12:30pm to 1:00pm. From looking at customer sales from previous days, we know that on average 10 customers enter during 12:30pm to 1:00pm. What is the probability that exactly 7 customers enter during lunch rush? What is the probability that more than 10 customers arrive?\n",
    "\n",
    "Let's begin by thinking about how many customers we expect to come into McDonald's during lunch rush. Well we were actually already given that information, it's 10. This means that the mean is 10, then our expected value E(X)=10. In the Poisson distribution this is λ. So the mean = λ for a Poisson Distribution, it is the expected number of occurences over the specfied interval.\n",
    "\n",
    "So since we now know what λ is, we can plug the information into the probability mass function and get an answer, let's use python and see how this works. Let's start off by answering the first question:\n",
    "\n",
    "What is the probability that exactly 7 customers enter during lunch rush?"
   ]
  },
  {
   "cell_type": "code",
   "execution_count": 38,
   "metadata": {},
   "outputs": [
    {
     "name": "stdout",
     "output_type": "stream",
     "text": [
      " There is a 9.01 % chance that exactly 7 customers show up at the lunch rush\n",
      "The mean is 10\n"
     ]
    }
   ],
   "source": [
    "# Set lambda\n",
    "lamb = 10\n",
    "\n",
    "# Set k to the number of occurences\n",
    "k=7\n",
    "\n",
    "#Set up e and factorial math statements\n",
    "from math import exp\n",
    "from math import factorial\n",
    "from __future__ import division\n",
    "\n",
    "# Now put the probability mass function\n",
    "prob = (lamb**k)*exp(-lamb)/factorial(k)\n",
    "\n",
    "# Put into percentage form and print answer\n",
    "print ' There is a %2.2f %% chance that exactly 7 customers show up at the lunch rush' %(100*prob)\n",
    "print  'The mean is 10'"
   ]
  },
  {
   "cell_type": "code",
   "execution_count": 40,
   "metadata": {},
   "outputs": [
    {
     "name": "stdout",
     "output_type": "stream",
     "text": [
      "There is a 9.01 % chance that exactly 7 customers show up at the lunch rush\n",
      "The mean is 10.00 \n",
      "The variance is 10.00\n"
     ]
    }
   ],
   "source": [
    "# Import the dsitrubtion from scipy.stats\n",
    "from scipy.stats import poisson\n",
    "\n",
    "# Set our mean = 10 customers for the lunch rush\n",
    "mu = 10\n",
    "\n",
    "# Then we can get the mean and variance\n",
    "mean,var = poisson.stats(mu)\n",
    "\n",
    "# We can also calculate the PMF at specific points, such as the odds of exactly 7 customers\n",
    "odds_seven = poisson.pmf(7,mu)\n",
    "\n",
    "#Print\n",
    "print 'There is a %2.2f %% chance that exactly 7 customers show up at the lunch rush' %(100*odds_seven)\n",
    "\n",
    "# Print the mean\n",
    "print 'The mean is %2.2f ' %mean\n",
    "print 'The variance is %2.2f' %var\n"
   ]
  },
  {
   "cell_type": "code",
   "execution_count": 42,
   "metadata": {},
   "outputs": [
    {
     "data": {
      "text/plain": [
       "<BarContainer object of 30 artists>"
      ]
     },
     "execution_count": 42,
     "metadata": {},
     "output_type": "execute_result"
    },
    {
     "data": {
      "image/png": "[encoded data removed]",
      "text/plain": [
       "<Figure size 432x288 with 1 Axes>"
      ]
     },
     "metadata": {
      "needs_background": "light"
     },
     "output_type": "display_data"
    }
   ],
   "source": [
    "# First the PMF\n",
    "import numpy as np\n",
    "\n",
    "# Let's see the PMF for all the way to 30 customers, remeber theoretically an infinite number of customers could show up.\n",
    "k=np.arange(30)\n",
    "\n",
    "# Average of 10 customers for the time interval\n",
    "lamb = 10\n",
    "\n",
    "#The PMF we'll use to plot\n",
    "pmf_pois = poisson.pmf(k,lamb)\n",
    "\n",
    "# We can now plot it simply by\n",
    "import matplotlib.pyplot as plt\n",
    "import seaborn as sns\n",
    "%matplotlib inline\n",
    "\n",
    "#Simply call a barplot\n",
    "plt.bar(k,pmf_pois)"
   ]
  },
  {
   "cell_type": "markdown",
   "metadata": {},
   "source": [
    "We can make that after 22 customer decline as thier daily avg people visiting is only 10 thus probability gets reduced as customer increases.\n",
    "\n",
    "For the question: What is the probability that more than 10 customers arrive? We need to sum up the value of every bar past 10 the 10 customers bar.\n",
    "\n",
    "We can do this by using a Cumulative Distribution Function (CDF). This describes the probability that a random variable X with a given probability distribution (such as the Poisson in this current case) will be found to have a value less than or equal to X.\n",
    "\n",
    "What this means is if we use the CDF to calcualte the probability of 10 or less customers showing up we can take that probability and subtract it from the total probability space, which is just 1 (the sum of all the probabilities for every number of customers).\n",
    "\n"
   ]
  },
  {
   "cell_type": "code",
   "execution_count": 43,
   "metadata": {},
   "outputs": [
    {
     "name": "stdout",
     "output_type": "stream",
     "text": [
      "The probability that 10 or less customers show up is 58.3 %.\n"
     ]
    }
   ],
   "source": [
    "#scipy has a built in cdf we can use\n",
    "\n",
    "# Set out k = 10 for ten customers, set mean = 10 for the average of ten customers during lunch rush.\n",
    "k,mu = 10,10\n",
    "\n",
    "# The probability that 10 or less customers show up is:\n",
    "prob_up_to_ten = poisson.cdf(k,mu)\n",
    "\n",
    "#print\n",
    "print 'The probability that 10 or less customers show up is %2.1f %%.' %(100*prob_up_to_ten)\n"
   ]
  },
  {
   "cell_type": "code",
   "execution_count": 44,
   "metadata": {},
   "outputs": [
    {
     "name": "stdout",
     "output_type": "stream",
     "text": [
      "The probability that more than ten customers show up during lunch rush is 41.7 %.\n"
     ]
    }
   ],
   "source": [
    "prob_more_than_ten = 1 - prob_up_to_ten\n",
    "print 'The probability that more than ten customers show up during lunch rush is %2.1f %%.' %(100*prob_more_than_ten)\n"
   ]
  },
  {
   "cell_type": "markdown",
   "metadata": {},
   "source": [
    "5.NORMAL DISTRIBUTION:\n",
    "Let's look at the curve. The normal distribution has several characteristics:\n",
    "\n",
    "1.) It has a lower tail (on the left) and an upper tail (on the right)\n",
    "\n",
    "2.) The curve is symmetric (for the theoretical distribution)\n",
    "\n",
    "3.) The peak occurs at the mean.\n",
    "\n",
    "4.) The standard deviation gives the curve a different shape:\n",
    "    -Narrow and tall for a smaller standard deviation.\n",
    "    -Shallower and fatter for a larger standard deviation.\n",
    "\n",
    "5.) The area under the curve is equal to 1 (the total probaility space)\n",
    "\n",
    "6.) The mean=median=mode.\n"
   ]
  },
  {
   "cell_type": "code",
   "execution_count": 3,
   "metadata": {},
   "outputs": [],
   "source": [
    "import matplotlib as mpl\n",
    "from scipy import stats"
   ]
  },
  {
   "cell_type": "code",
   "execution_count": 7,
   "metadata": {},
   "outputs": [
    {
     "data": {
      "image/png": "[encoded data removed]",
      "text/plain": [
       "<Figure size 432x288 with 1 Axes>"
      ]
     },
     "metadata": {
      "needs_background": "light"
     },
     "output_type": "display_data"
    }
   ],
   "source": [
    "# Set the mean\n",
    "mean = 0\n",
    "\n",
    "#Set the standard deviation\n",
    "std = 1\n",
    "\n",
    "\n",
    "# Create a range\n",
    "X = np.arange(-4,4,0.01)\n",
    "\n",
    "#Create the normal distribution for the range\n",
    "Y = stats.norm.pdf(X,mean,std)\n",
    "\n",
    "plt.plot(X,Y)\n",
    "plt.grid(True)"
   ]
  },
  {
   "cell_type": "code",
   "execution_count": 10,
   "metadata": {},
   "outputs": [
    {
     "data": {
      "image/png": "[encoded data removed]",
      "text/plain": [
       "<Figure size 432x288 with 1 Axes>"
      ]
     },
     "metadata": {
      "needs_background": "light"
     },
     "output_type": "display_data"
    }
   ],
   "source": [
    "mu,sigma=0,0.1\n",
    "norm_set=np.random.normal(mu,sigma,1000)\n",
    "plt.hist(norm_set,bins=50)\n",
    "plt.grid(True)\n",
    "#this looks like normal distribution in histogram with a peak"
   ]
  },
  {
   "cell_type": "markdown",
   "metadata": {},
   "source": [
    "6.T DISTRIBUTION:"
   ]
  },
  {
   "cell_type": "code",
   "execution_count": 15,
   "metadata": {},
   "outputs": [
    {
     "data": {
      "text/plain": [
       "[<matplotlib.lines.Line2D at 0xd7534e0>]"
      ]
     },
     "execution_count": 15,
     "metadata": {},
     "output_type": "execute_result"
    },
    {
     "data": {
      "image/png": "[encoded data removed]",
      "text/plain": [
       "<Figure size 432x288 with 1 Axes>"
      ]
     },
     "metadata": {
      "needs_background": "light"
     },
     "output_type": "display_data"
    }
   ],
   "source": [
    "#Import for plots\n",
    "import matplotlib.pyplot as plt\n",
    "%matplotlib inline\n",
    "\n",
    "#Import the stats library\n",
    "from scipy.stats import t\n",
    "\n",
    "#import numpy\n",
    "import numpy as np\n",
    "\n",
    "# Create x range\n",
    "x = np.linspace(-5,5,100)\n",
    "\n",
    "# Create the t distribution with scipy\n",
    "rv = t(3)\n",
    "\n",
    "# Plot the PDF versus the x range\n",
    "plt.plot(x, rv.pdf(x))"
   ]
  },
  {
   "cell_type": "markdown",
   "metadata": {},
   "source": [
    "7.BAYES THEOREM:\n",
    "P(A|B)=P(B|A)P(A)/P(B) \n",
    "Example Problem\n",
    "This is a classic example of Bayes Theorem:\n",
    "\n",
    "We have a test to screen for breast cancer, with the following conditions:\n",
    "\n",
    "1% of women have breast cancer\n",
    "80% of mammograms detect breast cancer when it is there\n",
    "9.6 % of mammograms detect breast cancer when it is not there. (False Positive)\n"
   ]
  },
  {
   "cell_type": "markdown",
   "metadata": {},
   "source": [
    "8.HYPOTHESIS TESTING AND CONFIDENCE INTERVAL:\n",
    "\n",
    "Let's assume we have a data set regarding ages of customers to a restaurant. Let's say for this particular data set we want to try to prove that the mean of that sample population is not 30. So we set our null hypothesis as:\n",
    "\n",
    "Ho:μ=30\n",
    "And our Alternative Hypothesis as:\n",
    "HA:μ≠30\n"
   ]
  },
  {
   "cell_type": "code",
   "execution_count": null,
   "metadata": {},
   "outputs": [],
   "source": []
  }
 ],
 "metadata": {
  "kernelspec": {
   "display_name": "Python 2",
   "language": "python",
   "name": "python2"
  },
  "language_info": {
   "codemirror_mode": {
    "name": "ipython",
    "version": 2
   },
   "file_extension": ".py",
   "mimetype": "text/x-python",
   "name": "python",
   "nbconvert_exporter": "python",
   "pygments_lexer": "ipython2",
   "version": "2.7.16"
  }
 },
 "nbformat": 4,
 "nbformat_minor": 2
}
